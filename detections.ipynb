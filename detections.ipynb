{
  "cells": [
    {
      "cell_type": "markdown",
      "metadata": {
        "id": "view-in-github",
        "colab_type": "text"
      },
      "source": [
        "<a href=\"https://colab.research.google.com/github/jefferyalan37/AI-ML/blob/main/detections.ipynb\" target=\"_parent\"><img src=\"https://colab.research.google.com/assets/colab-badge.svg\" alt=\"Open In Colab\"/></a>"
      ]
    },
    {
      "cell_type": "code",
      "execution_count": null,
      "metadata": {
        "id": "6qZcc_4MePkW"
      },
      "outputs": [],
      "source": [
        "from google.colab import drive\n",
        "drive.mount('/content/drive')"
      ]
    },
    {
      "cell_type": "code",
      "execution_count": null,
      "metadata": {
        "id": "3Q5huxy41wC2"
      },
      "outputs": [],
      "source": [
        "cd '/content/drive/MyDrive/inference'"
      ]
    },
    {
      "cell_type": "markdown",
      "metadata": {
        "id": "7s1Z4aW9t1jU"
      },
      "source": [
        "# Webcam\n",
        "if you want the images from the webcam then use the following cell\n",
        "\n",
        "**path**: 'webcam_images'\n"
      ]
    },
    {
      "cell_type": "code",
      "execution_count": null,
      "metadata": {
        "id": "C9DVmPUdrXLM"
      },
      "outputs": [],
      "source": [
        "from webcam import take_photo\n",
        "print('How many images do you want from the webcam')\n",
        "imgs = int(input())\n",
        "\n",
        "for i in range(imgs):\n",
        "  take_photo(f'webcam_images/photo{i}.jpg')\n",
        "\n",
        "!python yolo_inference.py"
      ]
    },
    {
      "cell_type": "markdown",
      "metadata": {
        "id": "Ha8TS5ehuy1l"
      },
      "source": [
        "# Detection on Previous Images\n",
        "\n",
        "**path**: 'inference_images'"
      ]
    },
    {
      "cell_type": "code",
      "execution_count": null,
      "metadata": {
        "id": "EC5HHSk6oOCF",
        "colab": {
          "base_uri": "https://localhost:8080/"
        },
        "outputId": "1bfadba4-67af-4cdd-9e11-a74a00a28f0a"
      },
      "outputs": [
        {
          "output_type": "stream",
          "name": "stdout",
          "text": [
            "fatal: destination path 'yolov7' already exists and is not an empty directory.\n",
            "Looking in indexes: https://pypi.org/simple, https://us-python.pkg.dev/colab-wheels/public/simple/\n",
            "Requirement already satisfied: matplotlib>=3.2.2 in /usr/local/lib/python3.8/dist-packages (from -r yolov7/requirements.txt (line 4)) (3.2.2)\n",
            "Requirement already satisfied: numpy>=1.18.5 in /usr/local/lib/python3.8/dist-packages (from -r yolov7/requirements.txt (line 5)) (1.21.6)\n",
            "Requirement already satisfied: opencv-python>=4.1.1 in /usr/local/lib/python3.8/dist-packages (from -r yolov7/requirements.txt (line 6)) (4.6.0.66)\n",
            "Requirement already satisfied: Pillow>=7.1.2 in /usr/local/lib/python3.8/dist-packages (from -r yolov7/requirements.txt (line 7)) (7.1.2)\n",
            "Requirement already satisfied: PyYAML>=5.3.1 in /usr/local/lib/python3.8/dist-packages (from -r yolov7/requirements.txt (line 8)) (6.0)\n",
            "Requirement already satisfied: requests>=2.23.0 in /usr/local/lib/python3.8/dist-packages (from -r yolov7/requirements.txt (line 9)) (2.23.0)\n",
            "Requirement already satisfied: scipy>=1.4.1 in /usr/local/lib/python3.8/dist-packages (from -r yolov7/requirements.txt (line 10)) (1.7.3)\n",
            "Requirement already satisfied: torch!=1.12.0,>=1.7.0 in /usr/local/lib/python3.8/dist-packages (from -r yolov7/requirements.txt (line 11)) (1.12.1+cu113)\n",
            "Requirement already satisfied: torchvision!=0.13.0,>=0.8.1 in /usr/local/lib/python3.8/dist-packages (from -r yolov7/requirements.txt (line 12)) (0.13.1+cu113)\n",
            "Requirement already satisfied: tqdm>=4.41.0 in /usr/local/lib/python3.8/dist-packages (from -r yolov7/requirements.txt (line 13)) (4.64.1)\n",
            "Requirement already satisfied: protobuf<4.21.3 in /usr/local/lib/python3.8/dist-packages (from -r yolov7/requirements.txt (line 14)) (3.19.6)\n",
            "Requirement already satisfied: tensorboard>=2.4.1 in /usr/local/lib/python3.8/dist-packages (from -r yolov7/requirements.txt (line 17)) (2.9.1)\n",
            "Requirement already satisfied: pandas>=1.1.4 in /usr/local/lib/python3.8/dist-packages (from -r yolov7/requirements.txt (line 21)) (1.3.5)\n",
            "Requirement already satisfied: seaborn>=0.11.0 in /usr/local/lib/python3.8/dist-packages (from -r yolov7/requirements.txt (line 22)) (0.11.2)\n",
            "Requirement already satisfied: ipython in /usr/local/lib/python3.8/dist-packages (from -r yolov7/requirements.txt (line 34)) (7.9.0)\n",
            "Requirement already satisfied: psutil in /usr/local/lib/python3.8/dist-packages (from -r yolov7/requirements.txt (line 35)) (5.4.8)\n",
            "Collecting thop\n",
            "  Downloading thop-0.1.1.post2209072238-py3-none-any.whl (15 kB)\n",
            "Requirement already satisfied: kiwisolver>=1.0.1 in /usr/local/lib/python3.8/dist-packages (from matplotlib>=3.2.2->-r yolov7/requirements.txt (line 4)) (1.4.4)\n",
            "Requirement already satisfied: pyparsing!=2.0.4,!=2.1.2,!=2.1.6,>=2.0.1 in /usr/local/lib/python3.8/dist-packages (from matplotlib>=3.2.2->-r yolov7/requirements.txt (line 4)) (3.0.9)\n",
            "Requirement already satisfied: python-dateutil>=2.1 in /usr/local/lib/python3.8/dist-packages (from matplotlib>=3.2.2->-r yolov7/requirements.txt (line 4)) (2.8.2)\n",
            "Requirement already satisfied: cycler>=0.10 in /usr/local/lib/python3.8/dist-packages (from matplotlib>=3.2.2->-r yolov7/requirements.txt (line 4)) (0.11.0)\n",
            "Requirement already satisfied: certifi>=2017.4.17 in /usr/local/lib/python3.8/dist-packages (from requests>=2.23.0->-r yolov7/requirements.txt (line 9)) (2022.9.24)\n",
            "Requirement already satisfied: urllib3!=1.25.0,!=1.25.1,<1.26,>=1.21.1 in /usr/local/lib/python3.8/dist-packages (from requests>=2.23.0->-r yolov7/requirements.txt (line 9)) (1.24.3)\n",
            "Requirement already satisfied: chardet<4,>=3.0.2 in /usr/local/lib/python3.8/dist-packages (from requests>=2.23.0->-r yolov7/requirements.txt (line 9)) (3.0.4)\n",
            "Requirement already satisfied: idna<3,>=2.5 in /usr/local/lib/python3.8/dist-packages (from requests>=2.23.0->-r yolov7/requirements.txt (line 9)) (2.10)\n",
            "Requirement already satisfied: typing-extensions in /usr/local/lib/python3.8/dist-packages (from torch!=1.12.0,>=1.7.0->-r yolov7/requirements.txt (line 11)) (4.1.1)\n",
            "Requirement already satisfied: markdown>=2.6.8 in /usr/local/lib/python3.8/dist-packages (from tensorboard>=2.4.1->-r yolov7/requirements.txt (line 17)) (3.4.1)\n",
            "Requirement already satisfied: absl-py>=0.4 in /usr/local/lib/python3.8/dist-packages (from tensorboard>=2.4.1->-r yolov7/requirements.txt (line 17)) (1.3.0)\n",
            "Requirement already satisfied: wheel>=0.26 in /usr/local/lib/python3.8/dist-packages (from tensorboard>=2.4.1->-r yolov7/requirements.txt (line 17)) (0.38.4)\n",
            "Requirement already satisfied: werkzeug>=1.0.1 in /usr/local/lib/python3.8/dist-packages (from tensorboard>=2.4.1->-r yolov7/requirements.txt (line 17)) (1.0.1)\n",
            "Requirement already satisfied: google-auth-oauthlib<0.5,>=0.4.1 in /usr/local/lib/python3.8/dist-packages (from tensorboard>=2.4.1->-r yolov7/requirements.txt (line 17)) (0.4.6)\n",
            "Requirement already satisfied: tensorboard-data-server<0.7.0,>=0.6.0 in /usr/local/lib/python3.8/dist-packages (from tensorboard>=2.4.1->-r yolov7/requirements.txt (line 17)) (0.6.1)\n",
            "Requirement already satisfied: tensorboard-plugin-wit>=1.6.0 in /usr/local/lib/python3.8/dist-packages (from tensorboard>=2.4.1->-r yolov7/requirements.txt (line 17)) (1.8.1)\n",
            "Requirement already satisfied: setuptools>=41.0.0 in /usr/local/lib/python3.8/dist-packages (from tensorboard>=2.4.1->-r yolov7/requirements.txt (line 17)) (57.4.0)\n",
            "Requirement already satisfied: google-auth<3,>=1.6.3 in /usr/local/lib/python3.8/dist-packages (from tensorboard>=2.4.1->-r yolov7/requirements.txt (line 17)) (2.14.1)\n",
            "Requirement already satisfied: grpcio>=1.24.3 in /usr/local/lib/python3.8/dist-packages (from tensorboard>=2.4.1->-r yolov7/requirements.txt (line 17)) (1.50.0)\n",
            "Requirement already satisfied: pytz>=2017.3 in /usr/local/lib/python3.8/dist-packages (from pandas>=1.1.4->-r yolov7/requirements.txt (line 21)) (2022.6)\n",
            "Requirement already satisfied: pyasn1-modules>=0.2.1 in /usr/local/lib/python3.8/dist-packages (from google-auth<3,>=1.6.3->tensorboard>=2.4.1->-r yolov7/requirements.txt (line 17)) (0.2.8)\n",
            "Requirement already satisfied: rsa<5,>=3.1.4 in /usr/local/lib/python3.8/dist-packages (from google-auth<3,>=1.6.3->tensorboard>=2.4.1->-r yolov7/requirements.txt (line 17)) (4.9)\n",
            "Requirement already satisfied: six>=1.9.0 in /usr/local/lib/python3.8/dist-packages (from google-auth<3,>=1.6.3->tensorboard>=2.4.1->-r yolov7/requirements.txt (line 17)) (1.15.0)\n",
            "Requirement already satisfied: cachetools<6.0,>=2.0.0 in /usr/local/lib/python3.8/dist-packages (from google-auth<3,>=1.6.3->tensorboard>=2.4.1->-r yolov7/requirements.txt (line 17)) (5.2.0)\n",
            "Requirement already satisfied: requests-oauthlib>=0.7.0 in /usr/local/lib/python3.8/dist-packages (from google-auth-oauthlib<0.5,>=0.4.1->tensorboard>=2.4.1->-r yolov7/requirements.txt (line 17)) (1.3.1)\n",
            "Requirement already satisfied: importlib-metadata>=4.4 in /usr/local/lib/python3.8/dist-packages (from markdown>=2.6.8->tensorboard>=2.4.1->-r yolov7/requirements.txt (line 17)) (4.13.0)\n",
            "Requirement already satisfied: zipp>=0.5 in /usr/local/lib/python3.8/dist-packages (from importlib-metadata>=4.4->markdown>=2.6.8->tensorboard>=2.4.1->-r yolov7/requirements.txt (line 17)) (3.10.0)\n",
            "Requirement already satisfied: pyasn1<0.5.0,>=0.4.6 in /usr/local/lib/python3.8/dist-packages (from pyasn1-modules>=0.2.1->google-auth<3,>=1.6.3->tensorboard>=2.4.1->-r yolov7/requirements.txt (line 17)) (0.4.8)\n",
            "Requirement already satisfied: oauthlib>=3.0.0 in /usr/local/lib/python3.8/dist-packages (from requests-oauthlib>=0.7.0->google-auth-oauthlib<0.5,>=0.4.1->tensorboard>=2.4.1->-r yolov7/requirements.txt (line 17)) (3.2.2)\n",
            "Requirement already satisfied: backcall in /usr/local/lib/python3.8/dist-packages (from ipython->-r yolov7/requirements.txt (line 34)) (0.2.0)\n",
            "Requirement already satisfied: pexpect in /usr/local/lib/python3.8/dist-packages (from ipython->-r yolov7/requirements.txt (line 34)) (4.8.0)\n",
            "Requirement already satisfied: pickleshare in /usr/local/lib/python3.8/dist-packages (from ipython->-r yolov7/requirements.txt (line 34)) (0.7.5)\n",
            "Requirement already satisfied: pygments in /usr/local/lib/python3.8/dist-packages (from ipython->-r yolov7/requirements.txt (line 34)) (2.6.1)\n",
            "Collecting jedi>=0.10\n",
            "  Downloading jedi-0.18.2-py2.py3-none-any.whl (1.6 MB)\n",
            "\u001b[K     |████████████████████████████████| 1.6 MB 7.3 MB/s \n",
            "\u001b[?25hRequirement already satisfied: decorator in /usr/local/lib/python3.8/dist-packages (from ipython->-r yolov7/requirements.txt (line 34)) (4.4.2)\n",
            "Requirement already satisfied: traitlets>=4.2 in /usr/local/lib/python3.8/dist-packages (from ipython->-r yolov7/requirements.txt (line 34)) (5.1.1)\n",
            "Requirement already satisfied: prompt-toolkit<2.1.0,>=2.0.0 in /usr/local/lib/python3.8/dist-packages (from ipython->-r yolov7/requirements.txt (line 34)) (2.0.10)\n",
            "Requirement already satisfied: parso<0.9.0,>=0.8.0 in /usr/local/lib/python3.8/dist-packages (from jedi>=0.10->ipython->-r yolov7/requirements.txt (line 34)) (0.8.3)\n",
            "Requirement already satisfied: wcwidth in /usr/local/lib/python3.8/dist-packages (from prompt-toolkit<2.1.0,>=2.0.0->ipython->-r yolov7/requirements.txt (line 34)) (0.2.5)\n",
            "Requirement already satisfied: ptyprocess>=0.5 in /usr/local/lib/python3.8/dist-packages (from pexpect->ipython->-r yolov7/requirements.txt (line 34)) (0.7.0)\n",
            "Installing collected packages: jedi, thop\n",
            "Successfully installed jedi-0.18.2 thop-0.1.1.post2209072238\n",
            "path of images\n",
            "inference_images\n",
            "Namespace(agnostic_nms=False, augment=False, classes=None, conf_thres=0.25, device='', exist_ok=False, img_size=1280, iou_thres=0.45, name='exp', no_trace=False, nosave=False, project='runs/detect', save_conf=False, save_txt=False, source='inference_images', update=False, view_img=False, weights=['best.pt'])\n",
            "YOLOR 🚀 v0.1-116-g8c0bf3f torch 1.12.1+cu113 CPU\n",
            "\n",
            "Fusing layers... \n",
            "IAuxDetect.fuse\n",
            "/usr/local/lib/python3.8/dist-packages/torch/functional.py:478: UserWarning: torch.meshgrid: in an upcoming release, it will be required to pass the indexing argument. (Triggered internally at  ../aten/src/ATen/native/TensorShape.cpp:2894.)\n",
            "  return _VF.meshgrid(tensors, **kwargs)  # type: ignore[attr-defined]\n",
            "Model Summary: 370 layers, 80961284 parameters, 0 gradients, 101.9 GFLOPS\n",
            " Convert model to Traced-model... \n",
            " traced_script_module saved! \n",
            " model is traced! \n",
            "\n",
            "1 invalid, Done. (5453.1ms) Inference, (21.0ms) NMS\n",
            " The image with the result is saved in: runs/detect/exp3/Photo on 25.10.22 at 17.09 #9.jpg\n",
            "1 invalid, Done. (6095.6ms) Inference, (1.5ms) NMS\n",
            " The image with the result is saved in: runs/detect/exp3/Photo on 25.10.22 at 17.10 #13.jpg\n",
            "1 invalid, Done. (6559.5ms) Inference, (2.6ms) NMS\n",
            " The image with the result is saved in: runs/detect/exp3/Photo on 25.10.22 at 17.11 #12.jpg\n",
            "1 invalid, Done. (5361.2ms) Inference, (1.2ms) NMS\n",
            " The image with the result is saved in: runs/detect/exp3/Photo on 25.10.22 at 17.12 #18.jpg\n",
            "1 invalid, Done. (5432.5ms) Inference, (1.1ms) NMS\n",
            " The image with the result is saved in: runs/detect/exp3/Photo on 25.10.22 at 17.12 #2.jpg\n",
            "1 invalid, Done. (5380.0ms) Inference, (1.3ms) NMS\n",
            " The image with the result is saved in: runs/detect/exp3/Photo on 25.10.22 at 17.16 #6.jpg\n",
            "1 invalid, 1 slightly_negative, Done. (5370.1ms) Inference, (1.3ms) NMS\n",
            " The image with the result is saved in: runs/detect/exp3/Photo on 25.10.22 at 17.32 #10.jpg\n",
            "1 invalid, Done. (5377.5ms) Inference, (1.2ms) NMS\n",
            " The image with the result is saved in: runs/detect/exp3/Photo on 25.10.22 at 17.32 #8.jpg\n",
            "1 invalid, Done. (5366.8ms) Inference, (1.3ms) NMS\n",
            " The image with the result is saved in: runs/detect/exp3/Photo on 25.10.22 at 17.32 #9.jpg\n",
            "1 invalid, Done. (5393.4ms) Inference, (1.3ms) NMS\n",
            " The image with the result is saved in: runs/detect/exp3/Photo on 25.10.22 at 17.33 #10.jpg\n",
            "1 invalid, Done. (5281.7ms) Inference, (1.3ms) NMS\n",
            " The image with the result is saved in: runs/detect/exp3/Photo on 25.10.22 at 17.33 #16.jpg\n",
            "1 invalid, Done. (5368.2ms) Inference, (1.5ms) NMS\n",
            " The image with the result is saved in: runs/detect/exp3/Photo on 25.10.22 at 17.33 #20.jpg\n",
            "1 invalid, Done. (5342.7ms) Inference, (1.3ms) NMS\n",
            " The image with the result is saved in: runs/detect/exp3/Photo on 25.10.22 at 17.33 #8.jpg\n",
            "1 invalid, Done. (5399.7ms) Inference, (1.3ms) NMS\n",
            " The image with the result is saved in: runs/detect/exp3/Photo on 25.10.22 at 17.37 #13.jpg\n",
            "1 invalid, Done. (5381.7ms) Inference, (1.2ms) NMS\n",
            " The image with the result is saved in: runs/detect/exp3/Photo on 25.10.22 at 17.38 #13.jpg\n",
            "1 positive, Done. (5384.4ms) Inference, (1.3ms) NMS\n",
            " The image with the result is saved in: runs/detect/exp3/unnamed-2.jpg\n",
            "1 positive, Done. (5405.4ms) Inference, (1.3ms) NMS\n",
            " The image with the result is saved in: runs/detect/exp3/unnamed-3.jpg\n",
            "1 positive, Done. (5431.7ms) Inference, (1.8ms) NMS\n",
            " The image with the result is saved in: runs/detect/exp3/unnamed-4.jpg\n",
            "1 positive, Done. (5350.4ms) Inference, (1.3ms) NMS\n",
            " The image with the result is saved in: runs/detect/exp3/unnamed-5.jpg\n",
            "1 positive, Done. (5436.7ms) Inference, (1.3ms) NMS\n",
            " The image with the result is saved in: runs/detect/exp3/unnamed-6.jpg\n",
            "1 positive, Done. (5342.4ms) Inference, (1.2ms) NMS\n",
            " The image with the result is saved in: runs/detect/exp3/unnamed-7.jpg\n",
            "1 positive, Done. (7394.5ms) Inference, (1.3ms) NMS\n",
            " The image with the result is saved in: runs/detect/exp3/unnamed-8.jpg\n",
            "1 positive, Done. (5323.6ms) Inference, (1.3ms) NMS\n",
            " The image with the result is saved in: runs/detect/exp3/unnamed.jpg\n",
            "Done. (135.660s)\n"
          ]
        }
      ],
      "source": [
        "!python yolo_inference.py"
      ]
    }
  ],
  "metadata": {
    "colab": {
      "provenance": [],
      "include_colab_link": true
    },
    "gpuClass": "standard",
    "kernelspec": {
      "display_name": "Python 3",
      "name": "python3"
    },
    "language_info": {
      "name": "python"
    }
  },
  "nbformat": 4,
  "nbformat_minor": 0
}